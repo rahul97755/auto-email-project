{
 "cells": [
  {
   "cell_type": "code",
   "execution_count": 1,
   "id": "8c8161d3",
   "metadata": {},
   "outputs": [],
   "source": [
    "from enum import Enum\n",
    "from email.mime.application import MIMEApplication\n",
    "from email.mime.multipart import MIMEMultipart\n",
    "from email.mime.text import MIMEText\n",
    "import smtplib\n",
    "\n",
    "import pandas as pd\n",
    "from datetime import datetime, date, timedelta\n",
    "import numpy as np\n",
    "import io\n",
    "import sys\n",
    "import re\n",
    "import os\n",
    "\n",
    "sys.path.insert(0,r'C:\\Users\\stesl0131\\Desktop\\jupyter notebook dir\\connection')\n",
    "from connection import connections as c"
   ]
  },
  {
   "cell_type": "markdown",
   "id": "34120dce",
   "metadata": {},
   "source": [
    "## Functions"
   ]
  },
  {
   "cell_type": "code",
   "execution_count": 2,
   "id": "080940b1",
   "metadata": {},
   "outputs": [],
   "source": [
    "def export_excel(df):\n",
    "  with io.BytesIO() as buffer:\n",
    "    writer = pd.ExcelWriter(buffer)\n",
    "    df.to_excel(writer)\n",
    "    writer.save()\n",
    "    return buffer.getvalue()\n",
    "\n",
    "def export_csv(df):\n",
    "  with io.StringIO() as buffer:\n",
    "    df.to_csv(buffer)\n",
    "    return buffer.getvalue()"
   ]
  },
  {
   "cell_type": "markdown",
   "id": "ddb0e1ab",
   "metadata": {},
   "source": [
    "## All DF ops"
   ]
  },
  {
   "cell_type": "code",
   "execution_count": null,
   "id": "580f6ebc",
   "metadata": {},
   "outputs": [],
   "source": [
    "redshift_datateam_con=c.redshiftcon_datateam()\n",
    "\n",
    "query='''SELECT \n",
    "TO_CHAR(t1.first_inst_date,'yyyy-mm') as first_inst_month\n",
    "--,case when  ea.successfull_registration=1 then 'enach registered' else 'enach not registered'  end   as enach\n",
    "--,case when na.nachaccepted =1 then 'nach_registered' else 'nach_not_registered' end as p_nach \n",
    ",case when na.nachaccepted =1 then  'Yes' \n",
    "      when ea.successfull_registration=1  then 'Yes' \n",
    "      else 'No' end as nach_registered\n",
    " ,sum(t1.eligible_first_pd7) as total_elegible_fpd7\n",
    ",sum(t1.first_pd7) as fpd7\n",
    ",sum(t1.eligible_first_pd15) as total_elegible_fpd15\n",
    ",sum(t1.first_pd15) as fpd15\n",
    ",sum(t1.eligible_first_pd30) as total_elegible_fpd30\n",
    ",sum(t1.first_pd30) as fpd30\n",
    "from data_analytics.f_delq_tt t1 \n",
    "inner join mydbinstance_website_live.loan_tb t2 on t1.loan_id =t2.id\n",
    "inner join data_analytics.st_prod_elv_product slp on t1.loan_id =slp.id \n",
    "left join data_analytics.enach_accepted ea on t1.customer_id =ea.customer_id\n",
    "left join data_analytics.nach_accepted na on t1.customer_id =na.customer_id \n",
    "--where --COALESCE(t2.product_code,'') not like 'prod_elv%' \n",
    "where slp.product_type like '%prod_lc%'\n",
    "--COALESCE(t2.product_code,'')  like 'prod_elv%' \n",
    "group by 1,2 limit 100;'''\n",
    "\n",
    "prod_lc = pd.read_sql(query , redshift_datateam_con)\n",
    "\n",
    "\n",
    "\n",
    "redshift_datateam_con=c.redshiftcon_datateam()\n",
    "\n",
    "query='''SELECT \n",
    "TO_CHAR(t1.first_inst_date,'yyyy-mm') as first_inst_month\n",
    "--,case when  ea.successfull_registration=1 then 'enach registered' else 'enach not registered'  end   as enach\n",
    "--,case when na.nachaccepted =1 then 'nach_registered' else 'nach_not_registered' end as p_nach \n",
    ",case when na.nachaccepted =1 then  'Yes' \n",
    "      when ea.successfull_registration=1  then 'Yes' \n",
    "      else 'No' end as nach_registered\n",
    " ,sum(t1.eligible_first_pd7) as total_elegible_fpd7\n",
    ",sum(t1.first_pd7) as fpd7\n",
    ",sum(t1.eligible_first_pd15) as total_elegible_fpd15\n",
    ",sum(t1.first_pd15) as fpd15\n",
    ",sum(t1.eligible_first_pd30) as total_elegible_fpd30\n",
    "from data_analytics.f_delq_tt t1 \n",
    "inner join mydbinstance_website_live.loan_tb t2 on t1.loan_id =t2.id\n",
    "inner join data_analytics.st_libr8_product slp on t1.loan_id =slp.id \n",
    "left join data_analytics.enach_accepted ea on t1.customer_id =ea.customer_id\n",
    "left join data_analytics.nach_accepted na on t1.customer_id =na.customer_id \n",
    "--where --COALESCE(t2.product_code,'') not like 'prod_elv%' \n",
    "where --slp.product_type not like '%prod_lc%'\n",
    "COALESCE(t2.product_code,'')  like 'prod_elv%' \n",
    "group by 1,2 limit 10;'''\n",
    "\n",
    "prod_lc1 = pd.read_sql(query , redshift_datateam_con)"
   ]
  },
  {
   "cell_type": "markdown",
   "id": "f26a01a1",
   "metadata": {},
   "source": [
    "## List of dataframe"
   ]
  },
  {
   "cell_type": "code",
   "execution_count": 20,
   "id": "a3e26119",
   "metadata": {},
   "outputs": [],
   "source": [
    "### make the data into attachable .csv or .xlsx format\n",
    "a=export_csv(LOC1)\n",
    "b=export_excel(LOC)\n",
    "\n",
    "EXPORTERS = {'LOC.csv': a, 'dataframe.xlsx': b}"
   ]
  },
  {
   "cell_type": "markdown",
   "id": "db662174",
   "metadata": {},
   "source": [
    "## Email Recipients"
   ]
  },
  {
   "cell_type": "code",
   "execution_count": 22,
   "id": "f9c833b2",
   "metadata": {},
   "outputs": [],
   "source": [
    "recipients = ['recipients1@gmail.com','recipients2@gmail.com']\n",
    "cc=[\"'recipients1@gmail.com'\"]\n",
    "sender = \"sender@gmail.com\"\n",
    "password='senderpassword'\n",
    "subject = \"risk\""
   ]
  },
  {
   "cell_type": "markdown",
   "id": "09aaf497",
   "metadata": {},
   "source": [
    "## Define mail Subject"
   ]
  },
  {
   "cell_type": "code",
   "execution_count": 23,
   "id": "96fc81d0",
   "metadata": {},
   "outputs": [],
   "source": [
    "subject = \"This is a test email\""
   ]
  },
  {
   "cell_type": "code",
   "execution_count": 24,
   "id": "c9f4d0f7",
   "metadata": {},
   "outputs": [],
   "source": [
    "message=MIMEMultipart('alternative')\n",
    "message['subject']=subject\n",
    "message['to']=\",\".join(recipients)\n",
    "message['cc']=\",\".join(cc)\n",
    "message['from']=sender"
   ]
  },
  {
   "cell_type": "markdown",
   "id": "01ccfb39",
   "metadata": {},
   "source": [
    "## Write body of the mail"
   ]
  },
  {
   "cell_type": "code",
   "execution_count": 25,
   "id": "851bfb52",
   "metadata": {},
   "outputs": [],
   "source": [
    "body=html = \"\"\"\\\n",
    "<html>\n",
    "  <body>\n",
    "    <p>Greeting to all,<br>\n",
    "       please find the data for  the  LOC <br>\n",
    "       {0}\n",
    "       <br><br><br>\n",
    "       \n",
    "       please find the data for elev8 <br>\n",
    "       {1}\n",
    "       <br>\n",
    "    </p>\n",
    "    <p><b> This is a auto email </b></P>\n",
    "    <br><br>\n",
    "    <P>Thanks and Regards</p>\n",
    "    <p>Data Team</P>\n",
    "  </body>\n",
    "</html>\n",
    "\"\"\".format(df1.to_html(), df2.to_html())"
   ]
  },
  {
   "cell_type": "code",
   "execution_count": 26,
   "id": "6f7d69df",
   "metadata": {},
   "outputs": [],
   "source": [
    "b=MIMEText(body, \"html\")\n",
    "message.attach(b)\n",
    "\n",
    "for filename in EXPORTERS:    \n",
    "    attachment = MIMEApplication(EXPORTERS[filename])\n",
    "    attachment['Content-Disposition'] = 'attachment; filename=\"{}\"'.format(filename)\n",
    "    message.attach(attachment)"
   ]
  },
  {
   "cell_type": "markdown",
   "id": "492b3637",
   "metadata": {},
   "source": [
    "## Send Mail"
   ]
  },
  {
   "cell_type": "code",
   "execution_count": null,
   "id": "f8d3286a",
   "metadata": {},
   "outputs": [],
   "source": [
    "session = smtplib.SMTP('smtp.gmail.com', 587)\n",
    "session.starttls()\n",
    "session.login(sender, password)\n",
    "send_it = session.sendmail(sender, recipients, message.as_string())\n",
    "session.quit()"
   ]
  }
 ],
 "metadata": {
  "kernelspec": {
   "display_name": "Python 3 (ipykernel)",
   "language": "python",
   "name": "python3"
  },
  "language_info": {
   "codemirror_mode": {
    "name": "ipython",
    "version": 3
   },
   "file_extension": ".py",
   "mimetype": "text/x-python",
   "name": "python",
   "nbconvert_exporter": "python",
   "pygments_lexer": "ipython3",
   "version": "3.9.12"
  }
 },
 "nbformat": 4,
 "nbformat_minor": 5
}
